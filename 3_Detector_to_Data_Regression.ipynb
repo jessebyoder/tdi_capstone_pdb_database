{
 "cells": [
  {
   "cell_type": "markdown",
   "metadata": {},
   "source": [
    "# Linear Regression ML \n",
    "\n",
    "RidgeCV( df[['Detector', 'Optics', 'Source']] , df['R_free'] )\n",
    "\n",
    "\n",
    "1. Transformer to select Detectors, Optics, Source\n",
    "2. OneHot Encode All\n",
    "3. RidgeCV? RandomForest?"
   ]
  },
  {
   "cell_type": "code",
   "execution_count": 1,
   "metadata": {},
   "outputs": [],
   "source": [
    "import pandas as pd\n",
    "import numpy as np"
   ]
  },
  {
   "cell_type": "code",
   "execution_count": 41,
   "metadata": {},
   "outputs": [],
   "source": [
    "df = pd.read_feather('/Users/jesse/TDI_bootcamp/capstone_PDB/dataframe_feather/2_detclean_dataframe.feather')"
   ]
  },
  {
   "cell_type": "code",
   "execution_count": 42,
   "metadata": {},
   "outputs": [],
   "source": [
    "#Drop R Nulls\n",
    "df = df[df['R_free'] != \"NULL\"]\n",
    "df = df[df['R_value'] != \"NULL\"]\n",
    "df = df[df['I_sigma'] != \"NULL\"]\n",
    "\n",
    "\n",
    "#Cast as floats\n",
    "df = df.astype({'R_free': 'float', 'R_value': 'float', 'I_sigma': 'float'})"
   ]
  },
  {
   "cell_type": "code",
   "execution_count": 43,
   "metadata": {},
   "outputs": [
    {
     "data": {
      "text/plain": [
       "level_0         107723\n",
       "index           107723\n",
       "Resolution      107723\n",
       "Completeness    107723\n",
       "I_sigma         107723\n",
       "R_value         107723\n",
       "R_free          107723\n",
       "Detector        107723\n",
       "Det_type        107723\n",
       "Optics          107723\n",
       "dtype: int64"
      ]
     },
     "execution_count": 43,
     "metadata": {},
     "output_type": "execute_result"
    }
   ],
   "source": [
    "df.count()"
   ]
  },
  {
   "cell_type": "code",
   "execution_count": 56,
   "metadata": {},
   "outputs": [
    {
     "data": {
      "text/html": [
       "<div>\n",
       "<style scoped>\n",
       "    .dataframe tbody tr th:only-of-type {\n",
       "        vertical-align: middle;\n",
       "    }\n",
       "\n",
       "    .dataframe tbody tr th {\n",
       "        vertical-align: top;\n",
       "    }\n",
       "\n",
       "    .dataframe thead th {\n",
       "        text-align: right;\n",
       "    }\n",
       "</style>\n",
       "<table border=\"1\" class=\"dataframe\">\n",
       "  <thead>\n",
       "    <tr style=\"text-align: right;\">\n",
       "      <th></th>\n",
       "      <th>R_free</th>\n",
       "      <th>R_value</th>\n",
       "      <th>I_sigma</th>\n",
       "      <th>index</th>\n",
       "    </tr>\n",
       "    <tr>\n",
       "      <th>Det_type</th>\n",
       "      <th></th>\n",
       "      <th></th>\n",
       "      <th></th>\n",
       "      <th></th>\n",
       "    </tr>\n",
       "  </thead>\n",
       "  <tbody>\n",
       "    <tr>\n",
       "      <td>CCD (QUANTUM 315)</td>\n",
       "      <td>0.233219</td>\n",
       "      <td>0.192232</td>\n",
       "      <td>15.850935</td>\n",
       "      <td>107</td>\n",
       "    </tr>\n",
       "    <tr>\n",
       "      <td>CCD (Q315R)</td>\n",
       "      <td>0.226405</td>\n",
       "      <td>0.185237</td>\n",
       "      <td>17.048291</td>\n",
       "      <td>117</td>\n",
       "    </tr>\n",
       "    <tr>\n",
       "      <td>PIXEL (PILATUS)</td>\n",
       "      <td>0.231627</td>\n",
       "      <td>0.193378</td>\n",
       "      <td>14.865616</td>\n",
       "      <td>146</td>\n",
       "    </tr>\n",
       "    <tr>\n",
       "      <td>CCD (MX-225)</td>\n",
       "      <td>0.230511</td>\n",
       "      <td>0.188841</td>\n",
       "      <td>14.881991</td>\n",
       "      <td>211</td>\n",
       "    </tr>\n",
       "    <tr>\n",
       "      <td>CCD (QUANTUM 315R)</td>\n",
       "      <td>0.231006</td>\n",
       "      <td>0.190639</td>\n",
       "      <td>15.120195</td>\n",
       "      <td>307</td>\n",
       "    </tr>\n",
       "    <tr>\n",
       "      <td>CMOS</td>\n",
       "      <td>0.230980</td>\n",
       "      <td>0.195527</td>\n",
       "      <td>16.944297</td>\n",
       "      <td>400</td>\n",
       "    </tr>\n",
       "    <tr>\n",
       "      <td>CCD; CCD</td>\n",
       "      <td>0.239470</td>\n",
       "      <td>0.200892</td>\n",
       "      <td>17.894104</td>\n",
       "      <td>529</td>\n",
       "    </tr>\n",
       "    <tr>\n",
       "      <td>PIXEL (PILATUS 6M)</td>\n",
       "      <td>0.227821</td>\n",
       "      <td>0.190851</td>\n",
       "      <td>13.962473</td>\n",
       "      <td>558</td>\n",
       "    </tr>\n",
       "    <tr>\n",
       "      <td>AREA DETECTOR</td>\n",
       "      <td>0.234935</td>\n",
       "      <td>0.193745</td>\n",
       "      <td>16.323913</td>\n",
       "      <td>783</td>\n",
       "    </tr>\n",
       "    <tr>\n",
       "      <td>IMAGE PLATE</td>\n",
       "      <td>0.233813</td>\n",
       "      <td>0.191885</td>\n",
       "      <td>27.077096</td>\n",
       "      <td>7822</td>\n",
       "    </tr>\n",
       "    <tr>\n",
       "      <td>PIXEL</td>\n",
       "      <td>0.227324</td>\n",
       "      <td>0.193165</td>\n",
       "      <td>25.200309</td>\n",
       "      <td>38217</td>\n",
       "    </tr>\n",
       "    <tr>\n",
       "      <td>CCD</td>\n",
       "      <td>0.230187</td>\n",
       "      <td>0.191842</td>\n",
       "      <td>17.318133</td>\n",
       "      <td>57347</td>\n",
       "    </tr>\n",
       "  </tbody>\n",
       "</table>\n",
       "</div>"
      ],
      "text/plain": [
       "                      R_free   R_value    I_sigma  index\n",
       "Det_type                                                \n",
       "CCD (QUANTUM 315)   0.233219  0.192232  15.850935    107\n",
       "CCD (Q315R)         0.226405  0.185237  17.048291    117\n",
       "PIXEL (PILATUS)     0.231627  0.193378  14.865616    146\n",
       "CCD (MX-225)        0.230511  0.188841  14.881991    211\n",
       "CCD (QUANTUM 315R)  0.231006  0.190639  15.120195    307\n",
       "CMOS                0.230980  0.195527  16.944297    400\n",
       "CCD; CCD            0.239470  0.200892  17.894104    529\n",
       "PIXEL (PILATUS 6M)  0.227821  0.190851  13.962473    558\n",
       "AREA DETECTOR       0.234935  0.193745  16.323913    783\n",
       "IMAGE PLATE         0.233813  0.191885  27.077096   7822\n",
       "PIXEL               0.227324  0.193165  25.200309  38217\n",
       "CCD                 0.230187  0.191842  17.318133  57347"
      ]
     },
     "execution_count": 56,
     "metadata": {},
     "output_type": "execute_result"
    }
   ],
   "source": [
    "det_df = (df.groupby('Det_type')\n",
    " .agg({'R_free': 'mean', \"R_value\": 'mean', \"I_sigma\": 'mean', \"index\": 'count'})\n",
    " .sort_values([\"index\"])\n",
    ")\n",
    " \n",
    "det_df.loc[det_df['index'] > 100]"
   ]
  },
  {
   "cell_type": "code",
   "execution_count": 21,
   "metadata": {},
   "outputs": [
    {
     "data": {
      "text/plain": [
       "array(['NULL', '???', '3.0 UNDULATOR C(111)', 'ROSENBAUM ROCK VERTICAL',\n",
       "       'BERYLLIUM LENSES', 'MIRRORS', 'MIRROR', 'VARIMAX HF',\n",
       "       'OSMIC VARIMAX HF ARCSEC', 'RH COATED COLLIMATOR',\n",
       "       'MIRRORS (VFM,HFM)', 'VARIMAX HIGHFLUX',\n",
       "       'RH COATED COLLIMATING MIRRORS, K', 'BERRYLIUM LENSES',\n",
       "       'KIRKPATRICK-BAEZ MIRRORS', 'BE', 'PT/RH MIRRORS', 'KB MIRRORS',\n",
       "       'KB-MIRROR SYSTEM', 'COMPOUND REFRACTIVE LENSES',\n",
       "       'RH COATED COLLIMATING MIRROR,', 'FLAT BENT COLIMATOR RH COVERED',\n",
       "       'CRL', '3.0G UNDULATOR, DIAMOND (111)', 'FLAT SI RH COATED M0,',\n",
       "       'SI MIRROR', 'MIRROR FOCUSING', 'SI 111. ROSENBAUM-ROCK DOUBLE',\n",
       "       'BERYIILUM LENSES', 'EIGER2 XE 16M', 'MONOCHROMATOR', 'UNDULATOR',\n",
       "       'MICRO-FOCUSED BEAM OF 10 MICRO M',\n",
       "       'FLAT BENT COLLIMATING RH COATED',\n",
       "       'TWO DIMENSIONAL FOCUSING MIRROR', 'VERTICALLY COLLIMATING MIRROR',\n",
       "       'KB FOCUSING MIRRORS', 'BENT COLLIMATING MIRROR AND',\n",
       "       'DCM SI(111)', 'KIRKPATRICK-BAEZ PAIR OF BI',\n",
       "       'VARIMAX-HF ARC OPTICS', 'ADJUSTABLE FOCUS K-B PAIR SI',\n",
       "       'INSERTION DEVICE(ID)', 'DECTRIS EIGER 9M', 'DIRECT',\n",
       "       'BE-LENSES TRANSFOCATOR, CHANNEL', 'BE LENS',\n",
       "       'DCM (DOUBLE CRYSTAL', 'TOROIDAL MIRROR', 'DOUBLE CRYSTAL SILICON',\n",
       "       'SI 111 CRYSTAL', 'CILINDRICAL MIRROR WITH 50 NM PT', 'SI(111)',\n",
       "       '0.9792', 'CONVEX PREFOCUSSING MIRROR AND A',\n",
       "       'LN2 CLOSED LOOP COOLING', 'M', 'CONFOCAL',\n",
       "       'AXCO CAPILLARY OPTICS', 'DYNAMICALLY BENDABLE MIRROW',\n",
       "       'BENT CYLINDRICAL', '3.3 UNDULATOR (UNDULATOR A)',\n",
       "       'ROSENBAUM-ROCK VERTICAL FOCUSING', 'K-B MIRRORS',\n",
       "       'SI(111) MONOCHROMATOR', 'BEAMLINE OPTICS OH1/OH3',\n",
       "       'FOCUSING BIMORPH MIRRORS IN', 'X-RAY', 'MIRRORS (VFM, HFM)',\n",
       "       'VERTICAL CRL / HORIZONTAL', 'SAGITTAL FOCUSING 2ND CRYSTAL',\n",
       "       'RH COATED COLLIMATING MIRROR, K',\n",
       "       'A PAIR OF K-B FOCUSING MIRRORS', 'DCM, SI-111', 'C(111)',\n",
       "       'VARIMAX', 'RH COATED TORROIDAL MIRROR', 'INSERTION DEVICE (ID)'],\n",
       "      dtype=object)"
      ]
     },
     "execution_count": 21,
     "metadata": {},
     "output_type": "execute_result"
    }
   ],
   "source": [
    "df['Optics'].unique()"
   ]
  },
  {
   "cell_type": "code",
   "execution_count": 57,
   "metadata": {},
   "outputs": [
    {
     "data": {
      "text/plain": [
       "<107723x2009 sparse matrix of type '<class 'numpy.float64'>'\n",
       "\twith 323169 stored elements in Compressed Sparse Row format>"
      ]
     },
     "execution_count": 57,
     "metadata": {},
     "output_type": "execute_result"
    }
   ],
   "source": [
    "from sklearn.preprocessing import OneHotEncoder\n",
    "\n",
    "\n",
    "ohe = OneHotEncoder()\n",
    "ohe.fit_transform(df[['Detector', 'Det_type', 'Optics']]) "
   ]
  },
  {
   "cell_type": "code",
   "execution_count": 59,
   "metadata": {},
   "outputs": [
    {
     "data": {
      "text/plain": [
       "Pipeline(memory=None,\n",
       "         steps=[('categorical',\n",
       "                 OneHotEncoder(categorical_features=None, categories=None,\n",
       "                               drop=None, dtype=<class 'numpy.float64'>,\n",
       "                               handle_unknown='error', n_values=None,\n",
       "                               sparse=True)),\n",
       "                ('regressor',\n",
       "                 RidgeCV(alphas=array([ 0.1,  1. , 10. ]), cv=None,\n",
       "                         fit_intercept=True, gcv_mode=None, normalize=False,\n",
       "                         scoring=None, store_cv_values=False))],\n",
       "         verbose=False)"
      ]
     },
     "execution_count": 59,
     "metadata": {},
     "output_type": "execute_result"
    }
   ],
   "source": [
    "from sklearn.pipeline import Pipeline\n",
    "from sklearn.linear_model import RidgeCV\n",
    "\n",
    "categorical_columns = ['Detector', 'Det_type', 'Optics']\n",
    "\n",
    "est = Pipeline([\n",
    "    ('categorical', OneHotEncoder()),\n",
    "    ('regressor', RidgeCV())\n",
    "])\n",
    "\n",
    "est.fit(df[categorical_columns], df['I_sigma'])"
   ]
  },
  {
   "cell_type": "code",
   "execution_count": 61,
   "metadata": {},
   "outputs": [
    {
     "data": {
      "text/plain": [
       "0.003128282560099338"
      ]
     },
     "execution_count": 61,
     "metadata": {},
     "output_type": "execute_result"
    }
   ],
   "source": [
    "est.score(df[categorical_columns], df['I_sigma'])"
   ]
  },
  {
   "cell_type": "code",
   "execution_count": null,
   "metadata": {},
   "outputs": [],
   "source": []
  }
 ],
 "metadata": {
  "kernelspec": {
   "display_name": "Python 3",
   "language": "python",
   "name": "python3"
  },
  "language_info": {
   "codemirror_mode": {
    "name": "ipython",
    "version": 3
   },
   "file_extension": ".py",
   "mimetype": "text/x-python",
   "name": "python",
   "nbconvert_exporter": "python",
   "pygments_lexer": "ipython3",
   "version": "3.7.4"
  }
 },
 "nbformat": 4,
 "nbformat_minor": 2
}
