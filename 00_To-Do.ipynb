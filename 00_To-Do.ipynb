{
 "cells": [
  {
   "cell_type": "markdown",
   "metadata": {},
   "source": [
    "### To-Do\n",
    "1. Make Update Workable - done!\n",
    "2. Create Function-Based Pipeline\n",
    "3. Concat new file df to old df, don't remake each time - done!\n",
    "4. ML working - done!\n",
    "5. Flow Chart of process (\"visualization\")\n",
    "6. Measure data processed in Kb and rows\n",
    "7. Git Hub repo including flow chart and README style instructions\n",
    "---\n",
    "8. Capstone Feedback Sheet\n",
    "9. End hardcoding\n",
    "10. Display results (?) \n"
   ]
  },
  {
   "cell_type": "code",
   "execution_count": null,
   "metadata": {},
   "outputs": [],
   "source": []
  }
 ],
 "metadata": {
  "kernelspec": {
   "display_name": "Python 3",
   "language": "python",
   "name": "python3"
  },
  "language_info": {
   "codemirror_mode": {
    "name": "ipython",
    "version": 3
   },
   "file_extension": ".py",
   "mimetype": "text/x-python",
   "name": "python",
   "nbconvert_exporter": "python",
   "pygments_lexer": "ipython3",
   "version": "3.7.4"
  }
 },
 "nbformat": 4,
 "nbformat_minor": 2
}
