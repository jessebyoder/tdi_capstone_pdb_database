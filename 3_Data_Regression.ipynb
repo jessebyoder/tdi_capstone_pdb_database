{
 "cells": [
  {
   "cell_type": "markdown",
   "metadata": {},
   "source": [
    "# Linear Regression ML \n",
    "\n",
    "RidgeCV\n",
    "\n",
    "\n",
    "1. Transformer to select Detectors, Optics, Source\n",
    "2. OneHot Encode All\n",
    "3. RidgeCV"
   ]
  },
  {
   "cell_type": "code",
   "execution_count": 1,
   "metadata": {},
   "outputs": [],
   "source": [
    "import pandas as pd\n",
    "import numpy as np\n",
    "from sklearn.preprocessing import OneHotEncoder\n",
    "from sklearn.pipeline import Pipeline\n",
    "from sklearn.linear_model import RidgeCV\n",
    "\n"
   ]
  },
  {
   "cell_type": "code",
   "execution_count": 17,
   "metadata": {},
   "outputs": [],
   "source": [
    "def machine_learner(categorical_columns, feature):\n",
    "    #read cleaned dataframe\n",
    "    global df\n",
    "    df = pd.read_feather('./dataframe_feather/2_detclean_dataframe.feather')\n",
    "    \n",
    "    #Drop R Nulls\n",
    "    df = df[df['R_free'] != \"NULL\"]\n",
    "    df = df[df['R_value'] != \"NULL\"]\n",
    "    df = df[df['I_sigma'] != \"NULL\"]\n",
    "\n",
    "\n",
    "    #Cast as floats\n",
    "    df = df.astype({'R_free': 'float', 'R_value': 'float', 'I_sigma': 'float', 'Resolution': 'float'})\n",
    "    \n",
    "    ohe = OneHotEncoder()\n",
    "    \n",
    "    ohe.fit_transform(df[categorical_columns]) \n",
    "    \n",
    "    \n",
    "    global est\n",
    "\n",
    "    est = Pipeline([\n",
    "        ('categorical', OneHotEncoder()),\n",
    "        ('regressor', RidgeCV())\n",
    "    ])\n",
    "\n",
    "    est.fit(df[categorical_columns], df[feature])"
   ]
  },
  {
   "cell_type": "code",
   "execution_count": 19,
   "metadata": {},
   "outputs": [
    {
     "name": "stdout",
     "output_type": "stream",
     "text": [
      "I_sigma model score:  0.0031106145987559453\n",
      "Resolution model score:  0.03272348151710702\n"
     ]
    }
   ],
   "source": [
    "#Columns to be used in fit\n",
    "categorical_columns = ['Detector', 'Optics']\n",
    "feature = ['Resolution']\n",
    "\n",
    "machine_learner(categorical_columns, feature)\n",
    "res_model = est\n",
    "\n",
    "categorical_columns = ['Detector', 'Optics']\n",
    "feature = ['I_sigma']\n",
    "\n",
    "machine_learner(categorical_columns, feature)\n",
    "Isig_model = est\n",
    "\n",
    "\n",
    "print(\"I_sigma model score: \", Isig_model.score(df[categorical_columns], df['I_sigma']))\n",
    "print(\"Resolution model score: \", res_model.score(df[categorical_columns], df['Resolution']))\n"
   ]
  },
  {
   "cell_type": "code",
   "execution_count": 15,
   "metadata": {},
   "outputs": [
    {
     "data": {
      "text/html": [
       "<div>\n",
       "<style scoped>\n",
       "    .dataframe tbody tr th:only-of-type {\n",
       "        vertical-align: middle;\n",
       "    }\n",
       "\n",
       "    .dataframe tbody tr th {\n",
       "        vertical-align: top;\n",
       "    }\n",
       "\n",
       "    .dataframe thead th {\n",
       "        text-align: right;\n",
       "    }\n",
       "</style>\n",
       "<table border=\"1\" class=\"dataframe\">\n",
       "  <thead>\n",
       "    <tr style=\"text-align: right;\">\n",
       "      <th></th>\n",
       "      <th>R_free</th>\n",
       "      <th>R_value</th>\n",
       "      <th>I_sigma</th>\n",
       "      <th>index</th>\n",
       "    </tr>\n",
       "    <tr>\n",
       "      <th>Detector</th>\n",
       "      <th></th>\n",
       "      <th></th>\n",
       "      <th></th>\n",
       "      <th></th>\n",
       "    </tr>\n",
       "  </thead>\n",
       "  <tbody>\n",
       "    <tr>\n",
       "      <td>RIGAKU IMAGE PLATE</td>\n",
       "      <td>0.241515</td>\n",
       "      <td>0.194050</td>\n",
       "      <td>14.548218</td>\n",
       "      <td>101</td>\n",
       "    </tr>\n",
       "    <tr>\n",
       "      <td>RIGAKU CCD</td>\n",
       "      <td>0.237735</td>\n",
       "      <td>0.196098</td>\n",
       "      <td>13.483039</td>\n",
       "      <td>102</td>\n",
       "    </tr>\n",
       "    <tr>\n",
       "      <td>BRUKER DIP-6040</td>\n",
       "      <td>0.235881</td>\n",
       "      <td>0.194752</td>\n",
       "      <td>18.831231</td>\n",
       "      <td>109</td>\n",
       "    </tr>\n",
       "    <tr>\n",
       "      <td>REMARK 200  DETECTOR MANUFACTURER          : ADSC QUANTUM 315R</td>\n",
       "      <td>0.239895</td>\n",
       "      <td>0.200868</td>\n",
       "      <td>18.282228</td>\n",
       "      <td>114</td>\n",
       "    </tr>\n",
       "    <tr>\n",
       "      <td>CS-PAD CXI-1</td>\n",
       "      <td>0.250575</td>\n",
       "      <td>0.214125</td>\n",
       "      <td>8.806217</td>\n",
       "      <td>120</td>\n",
       "    </tr>\n",
       "    <tr>\n",
       "      <td>...</td>\n",
       "      <td>...</td>\n",
       "      <td>...</td>\n",
       "      <td>...</td>\n",
       "      <td>...</td>\n",
       "    </tr>\n",
       "    <tr>\n",
       "      <td>MARRESEARCH</td>\n",
       "      <td>0.233136</td>\n",
       "      <td>0.192455</td>\n",
       "      <td>22.703894</td>\n",
       "      <td>4976</td>\n",
       "    </tr>\n",
       "    <tr>\n",
       "      <td>MARMOSAIC 225 MM CCD</td>\n",
       "      <td>0.224619</td>\n",
       "      <td>0.187112</td>\n",
       "      <td>16.491488</td>\n",
       "      <td>5177</td>\n",
       "    </tr>\n",
       "    <tr>\n",
       "      <td>RAYONIX MX-300</td>\n",
       "      <td>0.225675</td>\n",
       "      <td>0.188991</td>\n",
       "      <td>17.039416</td>\n",
       "      <td>5676</td>\n",
       "    </tr>\n",
       "    <tr>\n",
       "      <td>DECTRIS PILATUS 6M</td>\n",
       "      <td>0.224405</td>\n",
       "      <td>0.190367</td>\n",
       "      <td>16.219178</td>\n",
       "      <td>14934</td>\n",
       "    </tr>\n",
       "    <tr>\n",
       "      <td>ADSC QUANTUM 315R</td>\n",
       "      <td>0.232327</td>\n",
       "      <td>0.194111</td>\n",
       "      <td>17.185614</td>\n",
       "      <td>18629</td>\n",
       "    </tr>\n",
       "  </tbody>\n",
       "</table>\n",
       "<p>65 rows × 4 columns</p>\n",
       "</div>"
      ],
      "text/plain": [
       "                                                      R_free   R_value  \\\n",
       "Detector                                                                 \n",
       "RIGAKU IMAGE PLATE                                  0.241515  0.194050   \n",
       "RIGAKU CCD                                          0.237735  0.196098   \n",
       "BRUKER DIP-6040                                     0.235881  0.194752   \n",
       "REMARK 200  DETECTOR MANUFACTURER          : AD...  0.239895  0.200868   \n",
       "CS-PAD CXI-1                                        0.250575  0.214125   \n",
       "...                                                      ...       ...   \n",
       "MARRESEARCH                                         0.233136  0.192455   \n",
       "MARMOSAIC 225 MM CCD                                0.224619  0.187112   \n",
       "RAYONIX MX-300                                      0.225675  0.188991   \n",
       "DECTRIS PILATUS 6M                                  0.224405  0.190367   \n",
       "ADSC QUANTUM 315R                                   0.232327  0.194111   \n",
       "\n",
       "                                                      I_sigma  index  \n",
       "Detector                                                              \n",
       "RIGAKU IMAGE PLATE                                  14.548218    101  \n",
       "RIGAKU CCD                                          13.483039    102  \n",
       "BRUKER DIP-6040                                     18.831231    109  \n",
       "REMARK 200  DETECTOR MANUFACTURER          : AD...  18.282228    114  \n",
       "CS-PAD CXI-1                                         8.806217    120  \n",
       "...                                                       ...    ...  \n",
       "MARRESEARCH                                         22.703894   4976  \n",
       "MARMOSAIC 225 MM CCD                                16.491488   5177  \n",
       "RAYONIX MX-300                                      17.039416   5676  \n",
       "DECTRIS PILATUS 6M                                  16.219178  14934  \n",
       "ADSC QUANTUM 315R                                   17.185614  18629  \n",
       "\n",
       "[65 rows x 4 columns]"
      ]
     },
     "execution_count": 15,
     "metadata": {},
     "output_type": "execute_result"
    }
   ],
   "source": [
    "det_df = (df.groupby('Detector')\n",
    " .agg({'R_free': 'mean', \"R_value\": 'mean', \"I_sigma\": 'mean', \"index\": 'count'})\n",
    " .sort_values([\"index\"])\n",
    ")\n",
    " \n",
    "det_df.loc[det_df['index'] > 100]"
   ]
  },
  {
   "cell_type": "code",
   "execution_count": 17,
   "metadata": {
    "scrolled": true
   },
   "outputs": [
    {
     "data": {
      "text/plain": [
       "array(['DECTRIS PILATUS 6M', 'DECTRIS EIGER X 4M', 'DECTRIS EIGER X 16M',\n",
       "       'DECTRIS PILATUS 6M-F', 'DECTRIS EIGER2 XE 16M',\n",
       "       'DECTRIS PILATUS3 6M', 'MAR CCD 130 MM', 'DECTRIS EIGER X 9M',\n",
       "       'DECTRIS PILATUS 300K', 'DECTRIS EIGER2 X 9M',\n",
       "       'DECTRIS PILATUS3 2M', 'ADSC QUANTUM 210R', 'RAYONIX MX300-HS',\n",
       "       'RIGAKU SATURN 944+', 'DECTRIS PILATUS 2M', 'ADSC QUANTUM 270',\n",
       "       'DECTRIS PILATUS3 X 6M', 'DECTRIS PILATUS3 S 6M',\n",
       "       'ADSC QUANTUM 315R', 'MARMOSAIC 225 MM CCD', 'MAR CCD 165 MM',\n",
       "       'RIGAKU RAXIS IV++', 'RAYONIX MX-300', 'RDI CMOS_8M',\n",
       "       'BRUKER PLATINUM 135', 'DECTRIS EIGER2 X 16M',\n",
       "       'DECTRIS PILATUS 200K', 'RIGAKU RAXIS IV', 'RIGAKU',\n",
       "       'AGILENT ATLAS CCD', 'MAR SCANNER 300 MM PLATE', 'MARRESEARCH',\n",
       "       'ADSC QUANTUM 4R', 'RIGAKU RAXIS II', 'ADSC', 'ADSC CCD',\n",
       "       'CUSTOM-MADE',\n",
       "       'REMARK 200  DETECTOR MANUFACTURER          : ADSC QUANTUM 315',\n",
       "       'RIGAKU RAXIS IIC',\n",
       "       'REMARK 200  DETECTOR MANUFACTURER          : MARRESEARCH',\n",
       "       'SBC-2',\n",
       "       'REMARK 200  DETECTOR MANUFACTURER          : ADSC QUANTUM 4',\n",
       "       'RIGAKU RAXIS', 'RIGAKU JUPITER 210',\n",
       "       'REMARK 200  DETECTOR MANUFACTURER          : ADSC QUANTUM 210',\n",
       "       'XUONG-HAMLIN MULTIWIRE', 'FUJI', 'SIEMENS HI-STAR',\n",
       "       'RIGAKU RAXIS HTC', 'MAR SCANNER 345 MM PLATE',\n",
       "       'REMARK 200  DETECTOR MANUFACTURER          : NULL', 'SDMS',\n",
       "       'ADSC QUANTUM 1', 'BRANDEIS', 'RIGAKU IMAGE PLATE',\n",
       "       'BRANDEIS - B4', 'MACSCIENCE', 'SIEMENS', 'SBC-3', 'WEISSENBERG',\n",
       "       'REMARK 200  DETECTOR MANUFACTURER          : MARMOSAIC 225 MM CCD',\n",
       "       'RIGAKU SATURN 92', 'BRUKER DIP-6040', 'RIGAKU RAXIS V',\n",
       "       'RIGAKU RAXIS VII', 'RIGAKU CCD', 'MARMOSAIC 325 MM CCD',\n",
       "       'BRUKER SMART 6000', 'OXFORD ONYX CCD', 'DECTRIS PILATUS 2M-F',\n",
       "       'RIGAKU SATURN A200', 'RAYONIX MX225HE', 'RAYONIX MX300HE',\n",
       "       'NOIR-1', 'RAYONIX MX-225',\n",
       "       'REMARK 200  DETECTOR MANUFACTURER          : ADSC QUANTUM 315R',\n",
       "       'DECTRIS', 'DECTRIS PILATUS',\n",
       "       'REMARK 200  DETECTOR MANUFACTURER          : MARMOSAIC 300 MM CCD',\n",
       "       'APEX II CCD', 'RIGAKU SATURN 944', 'ENRAF-NONIUS FAST',\n",
       "       'DECTRIS EIGER R 4M', 'MPCCD', 'CS-PAD CXI-1', 'RAYONIX MX225-HS'],\n",
       "      dtype=object)"
      ]
     },
     "execution_count": 17,
     "metadata": {},
     "output_type": "execute_result"
    }
   ],
   "source": [
    "df['Detector'].unique()"
   ]
  },
  {
   "cell_type": "code",
   "execution_count": 6,
   "metadata": {},
   "outputs": [
    {
     "data": {
      "text/plain": [
       "array(['NULL', 'RH COATED COLLIMATING MIRRORS, K',\n",
       "       'FLAT SIDE-DEFLECTING, RH-COATED', ..., 'CCD ARRAY',\n",
       "       'BIMORPH MIRRORS', 'TORODIAL FOCUSING MIRRORS'], dtype=object)"
      ]
     },
     "execution_count": 6,
     "metadata": {},
     "output_type": "execute_result"
    }
   ],
   "source": [
    "\n",
    "df['Optics'].unique()"
   ]
  },
  {
   "cell_type": "code",
   "execution_count": 33,
   "metadata": {},
   "outputs": [
    {
     "name": "stdout",
     "output_type": "stream",
     "text": [
      "resolution estimate:  [2.07249358]\n",
      "I/sigma estimate:  [19.28237408]\n"
     ]
    }
   ],
   "source": [
    "#Test your setups\n",
    "# 'DECTRIS EIGER X 16M'\n",
    "# 'DECTRIS PILATUS 6M'\n",
    "\n",
    "detector = 'DECTRIS EIGER X 9M'\n",
    "mirror = 'BIMORPH MIRRORS'\n",
    "\n",
    "print(\"resolution estimate: \", res_model.predict([[detector, mirror]])[0])\n",
    "print(\"I/sigma estimate: \", Isig_model.predict([[detector, mirror]])[0])"
   ]
  },
  {
   "cell_type": "code",
   "execution_count": null,
   "metadata": {},
   "outputs": [],
   "source": []
  }
 ],
 "metadata": {
  "kernelspec": {
   "display_name": "Python 3",
   "language": "python",
   "name": "python3"
  },
  "language_info": {
   "codemirror_mode": {
    "name": "ipython",
    "version": 3
   },
   "file_extension": ".py",
   "mimetype": "text/x-python",
   "name": "python",
   "nbconvert_exporter": "python",
   "pygments_lexer": "ipython3",
   "version": "3.7.4"
  }
 },
 "nbformat": 4,
 "nbformat_minor": 2
}
