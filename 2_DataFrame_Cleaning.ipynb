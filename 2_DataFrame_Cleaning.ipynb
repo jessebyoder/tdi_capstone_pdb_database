{
 "cells": [
  {
   "cell_type": "markdown",
   "metadata": {},
   "source": [
    "# df['Detectors'] Cleaning \n",
    "\n",
    "I start with 133 unique Detector types, and I want to consolidate or drop. \n",
    "1. Drop anything past the semicolon (;) - redundant or miss-filled field  - DONE, put in DF creation step (this was done on import)--> 118\n",
    "2. Convert \"PSI\" Manufacturer into \"Dectris - the model is identifying --> 117\n",
    "3. Convert ADSC detectors with/without \"R\" ending to unified with R --> 114\n",
    "4. DON'T DROP rows with Detector = \"NULL\" --> 114\n",
    "   These may be cryo-EM pdbs in the future? Filter later\n",
    "5. Drop Detector types with count < 100 --> 20 detectors"
   ]
  },
  {
   "cell_type": "code",
   "execution_count": 2,
   "metadata": {},
   "outputs": [],
   "source": [
    "import pandas as pd"
   ]
  },
  {
   "cell_type": "code",
   "execution_count": 3,
   "metadata": {},
   "outputs": [],
   "source": [
    "df = pd.read_feather('/Users/jesse/TDI_bootcamp/capstone_PDB/dataframe_feather/1_initial_dataframe_163K_full.feather')"
   ]
  },
  {
   "cell_type": "code",
   "execution_count": 4,
   "metadata": {},
   "outputs": [],
   "source": [
    "# I on't always want to do this - Drop rows with NULL detector\n",
    "# Only for some\n",
    "\n",
    "df = df[df['Detector'] != \"NULL\"]"
   ]
  },
  {
   "cell_type": "code",
   "execution_count": 5,
   "metadata": {},
   "outputs": [
    {
     "data": {
      "text/plain": [
       "155711"
      ]
     },
     "execution_count": 5,
     "metadata": {},
     "output_type": "execute_result"
    }
   ],
   "source": [
    "df['Detector'].count()"
   ]
  },
  {
   "cell_type": "code",
   "execution_count": 6,
   "metadata": {},
   "outputs": [],
   "source": [
    "# Replace mis-used PSI phrase in Pilatus\n",
    "df['Detector'] = df['Detector'].replace('PSI PILATUS 6M', 'DECTRIS PILATUS 6M')\n",
    "\n",
    "df['Detector'] = df['Detector'].replace('MARMOSAIC 300 MM CCD', 'RAYONIX MX-300')\n"
   ]
  },
  {
   "cell_type": "code",
   "execution_count": 7,
   "metadata": {},
   "outputs": [],
   "source": [
    "#Correct lack of R on ADSC names\n",
    "df['Detector']= df['Detector'].replace({\n",
    "    'ADSC QUANTUM 315': 'ADSC QUANTUM 315R',\n",
    "    'ADSC QUANTUM 4': 'ADSC QUANTUM 4R',\n",
    "    'ADSC QUANTUM 210': 'ADSC QUANTUM 210R'})"
   ]
  },
  {
   "cell_type": "code",
   "execution_count": 8,
   "metadata": {},
   "outputs": [],
   "source": [
    "#Detectors are better, fewer drops\n",
    "det_counts = df['Detector'].value_counts()\n",
    "df = df[~df['Detector'].isin(det_counts[det_counts < 100].index)]\n",
    "\n",
    "#lots of crap in Optics that will get dropped here\n",
    "optic_counts = df['Optics'].value_counts()\n",
    "df = df[~df['Optics'].isin(det_counts[det_counts < 100].index)]\n"
   ]
  },
  {
   "cell_type": "code",
   "execution_count": 9,
   "metadata": {},
   "outputs": [
    {
     "data": {
      "text/html": [
       "<div>\n",
       "<style scoped>\n",
       "    .dataframe tbody tr th:only-of-type {\n",
       "        vertical-align: middle;\n",
       "    }\n",
       "\n",
       "    .dataframe tbody tr th {\n",
       "        vertical-align: top;\n",
       "    }\n",
       "\n",
       "    .dataframe thead th {\n",
       "        text-align: right;\n",
       "    }\n",
       "</style>\n",
       "<table border=\"1\" class=\"dataframe\">\n",
       "  <thead>\n",
       "    <tr style=\"text-align: right;\">\n",
       "      <th></th>\n",
       "      <th>index</th>\n",
       "      <th>Resolution</th>\n",
       "      <th>Completeness</th>\n",
       "      <th>I_sigma</th>\n",
       "      <th>R_value</th>\n",
       "      <th>R_free</th>\n",
       "      <th>Detector</th>\n",
       "      <th>Det_type</th>\n",
       "      <th>Optics</th>\n",
       "    </tr>\n",
       "  </thead>\n",
       "  <tbody>\n",
       "    <tr>\n",
       "      <td>5</td>\n",
       "      <td>9ICH</td>\n",
       "      <td>2.90</td>\n",
       "      <td>92.0</td>\n",
       "      <td>NULL</td>\n",
       "      <td>0.176</td>\n",
       "      <td>NULL</td>\n",
       "      <td>SDMS</td>\n",
       "      <td>AREA DETECTOR</td>\n",
       "      <td>NULL</td>\n",
       "    </tr>\n",
       "    <tr>\n",
       "      <td>6</td>\n",
       "      <td>966C</td>\n",
       "      <td>1.90</td>\n",
       "      <td>NULL</td>\n",
       "      <td>NULL</td>\n",
       "      <td>NULL</td>\n",
       "      <td>0.330</td>\n",
       "      <td>ADSC</td>\n",
       "      <td>IMAGE PLATE</td>\n",
       "      <td>COLLIMATOR</td>\n",
       "    </tr>\n",
       "    <tr>\n",
       "      <td>7</td>\n",
       "      <td>9ICI</td>\n",
       "      <td>3.10</td>\n",
       "      <td>94.0</td>\n",
       "      <td>NULL</td>\n",
       "      <td>0.169</td>\n",
       "      <td>NULL</td>\n",
       "      <td>SDMS</td>\n",
       "      <td>AREA DETECTOR</td>\n",
       "      <td>NULL</td>\n",
       "    </tr>\n",
       "    <tr>\n",
       "      <td>9</td>\n",
       "      <td>9ICK</td>\n",
       "      <td>2.70</td>\n",
       "      <td>89.0</td>\n",
       "      <td>NULL</td>\n",
       "      <td>0.164</td>\n",
       "      <td>NULL</td>\n",
       "      <td>SDMS</td>\n",
       "      <td>AREA DETECTOR</td>\n",
       "      <td>NULL</td>\n",
       "    </tr>\n",
       "    <tr>\n",
       "      <td>11</td>\n",
       "      <td>9ICJ</td>\n",
       "      <td>3.10</td>\n",
       "      <td>88.0</td>\n",
       "      <td>NULL</td>\n",
       "      <td>0.149</td>\n",
       "      <td>NULL</td>\n",
       "      <td>SDMS</td>\n",
       "      <td>AREA DETECTOR</td>\n",
       "      <td>NULL</td>\n",
       "    </tr>\n",
       "    <tr>\n",
       "      <td>12</td>\n",
       "      <td>9NSE</td>\n",
       "      <td>2.24</td>\n",
       "      <td>NULL</td>\n",
       "      <td>11.6000</td>\n",
       "      <td>NULL</td>\n",
       "      <td>0.254</td>\n",
       "      <td>ADSC QUANTUM 1</td>\n",
       "      <td>CCD</td>\n",
       "      <td>MIRROR</td>\n",
       "    </tr>\n",
       "    <tr>\n",
       "      <td>13</td>\n",
       "      <td>9ICY</td>\n",
       "      <td>3.00</td>\n",
       "      <td>94.0</td>\n",
       "      <td>NULL</td>\n",
       "      <td>0.181</td>\n",
       "      <td>NULL</td>\n",
       "      <td>SDMS</td>\n",
       "      <td>AREA DETECTOR</td>\n",
       "      <td>NULL</td>\n",
       "    </tr>\n",
       "    <tr>\n",
       "      <td>14</td>\n",
       "      <td>9ICN</td>\n",
       "      <td>3.00</td>\n",
       "      <td>86.0</td>\n",
       "      <td>NULL</td>\n",
       "      <td>0.150</td>\n",
       "      <td>NULL</td>\n",
       "      <td>SDMS</td>\n",
       "      <td>AREA DETECTOR</td>\n",
       "      <td>NULL</td>\n",
       "    </tr>\n",
       "    <tr>\n",
       "      <td>16</td>\n",
       "      <td>9ICO</td>\n",
       "      <td>2.90</td>\n",
       "      <td>86.0</td>\n",
       "      <td>NULL</td>\n",
       "      <td>0.152</td>\n",
       "      <td>NULL</td>\n",
       "      <td>SDMS</td>\n",
       "      <td>AREA DETECTOR</td>\n",
       "      <td>NULL</td>\n",
       "    </tr>\n",
       "    <tr>\n",
       "      <td>17</td>\n",
       "      <td>9ICX</td>\n",
       "      <td>2.60</td>\n",
       "      <td>89.0</td>\n",
       "      <td>NULL</td>\n",
       "      <td>0.178</td>\n",
       "      <td>NULL</td>\n",
       "      <td>SDMS</td>\n",
       "      <td>AREA DETECTOR</td>\n",
       "      <td>NULL</td>\n",
       "    </tr>\n",
       "  </tbody>\n",
       "</table>\n",
       "</div>"
      ],
      "text/plain": [
       "   index Resolution Completeness  I_sigma R_value R_free        Detector  \\\n",
       "5   9ICH       2.90         92.0     NULL   0.176   NULL            SDMS   \n",
       "6   966C       1.90         NULL     NULL    NULL  0.330            ADSC   \n",
       "7   9ICI       3.10         94.0     NULL   0.169   NULL            SDMS   \n",
       "9   9ICK       2.70         89.0     NULL   0.164   NULL            SDMS   \n",
       "11  9ICJ       3.10         88.0     NULL   0.149   NULL            SDMS   \n",
       "12  9NSE       2.24         NULL  11.6000    NULL  0.254  ADSC QUANTUM 1   \n",
       "13  9ICY       3.00         94.0     NULL   0.181   NULL            SDMS   \n",
       "14  9ICN       3.00         86.0     NULL   0.150   NULL            SDMS   \n",
       "16  9ICO       2.90         86.0     NULL   0.152   NULL            SDMS   \n",
       "17  9ICX       2.60         89.0     NULL   0.178   NULL            SDMS   \n",
       "\n",
       "         Det_type      Optics  \n",
       "5   AREA DETECTOR        NULL  \n",
       "6     IMAGE PLATE  COLLIMATOR  \n",
       "7   AREA DETECTOR        NULL  \n",
       "9   AREA DETECTOR        NULL  \n",
       "11  AREA DETECTOR        NULL  \n",
       "12            CCD      MIRROR  \n",
       "13  AREA DETECTOR        NULL  \n",
       "14  AREA DETECTOR        NULL  \n",
       "16  AREA DETECTOR        NULL  \n",
       "17  AREA DETECTOR        NULL  "
      ]
     },
     "execution_count": 9,
     "metadata": {},
     "output_type": "execute_result"
    }
   ],
   "source": [
    "#df['Detector'].nunique()\n",
    "df.head(10)"
   ]
  },
  {
   "cell_type": "code",
   "execution_count": 10,
   "metadata": {},
   "outputs": [],
   "source": [
    "df = df.reset_index()\n",
    "df.to_feather('/Users/jesse/TDI_bootcamp/capstone_PDB/dataframe_feather/2_detclean_dataframe.feather')"
   ]
  },
  {
   "cell_type": "code",
   "execution_count": 11,
   "metadata": {},
   "outputs": [
    {
     "data": {
      "text/plain": [
       "149448"
      ]
     },
     "execution_count": 11,
     "metadata": {},
     "output_type": "execute_result"
    }
   ],
   "source": [
    "df['Optics'].count()"
   ]
  },
  {
   "cell_type": "code",
   "execution_count": null,
   "metadata": {},
   "outputs": [],
   "source": []
  }
 ],
 "metadata": {
  "kernelspec": {
   "display_name": "Python 3",
   "language": "python",
   "name": "python3"
  },
  "language_info": {
   "codemirror_mode": {
    "name": "ipython",
    "version": 3
   },
   "file_extension": ".py",
   "mimetype": "text/x-python",
   "name": "python",
   "nbconvert_exporter": "python",
   "pygments_lexer": "ipython3",
   "version": "3.7.4"
  }
 },
 "nbformat": 4,
 "nbformat_minor": 2
}
